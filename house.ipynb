{
 "cells": [
  {
   "cell_type": "code",
   "execution_count": 247,
   "metadata": {},
   "outputs": [],
   "source": [
    "import pandas as pd\n",
    "import numpy as np"
   ]
  },
  {
   "cell_type": "markdown",
   "metadata": {},
   "source": [
    "* **FASE DE CARGA**"
   ]
  },
  {
   "cell_type": "code",
   "execution_count": 248,
   "metadata": {},
   "outputs": [],
   "source": [
    "house_train = pd.read_csv('Housing Dreams/house_train_raw.csv')\n",
    "house_test = pd.read_csv('Housing Dreams/houses_test_raw.csv')"
   ]
  },
  {
   "cell_type": "markdown",
   "metadata": {},
   "source": [
    "* **FASE DE ANALISIS**"
   ]
  },
  {
   "cell_type": "code",
   "execution_count": 249,
   "metadata": {},
   "outputs": [
    {
     "data": {
      "text/plain": [
       "{'LotFrontage': [259, 'float64'],\n",
       " 'Alley': [1369, 'object'],\n",
       " 'MasVnrType': [8, 'object'],\n",
       " 'MasVnrArea': [8, 'float64'],\n",
       " 'BsmtQual': [37, 'object'],\n",
       " 'BsmtCond': [37, 'object'],\n",
       " 'BsmtExposure': [38, 'object'],\n",
       " 'BsmtFinType1': [37, 'object'],\n",
       " 'BsmtFinType2': [38, 'object'],\n",
       " 'Electrical': [1, 'object'],\n",
       " 'FireplaceQu': [690, 'object'],\n",
       " 'GarageType': [81, 'object'],\n",
       " 'GarageYrBlt': [81, 'float64'],\n",
       " 'GarageFinish': [81, 'object'],\n",
       " 'GarageQual': [81, 'object'],\n",
       " 'GarageCond': [81, 'object'],\n",
       " 'PoolQC': [1453, 'object'],\n",
       " 'Fence': [1179, 'object'],\n",
       " 'MiscFeature': [1406, 'object']}"
      ]
     },
     "execution_count": 249,
     "metadata": {},
     "output_type": "execute_result"
    }
   ],
   "source": [
    "null_columns = house_train.columns[house_train.isna().any()].tolist()\n",
    "null_columns_type = {null_columns[i] : [house_train[null_columns[i]].isnull().sum(), str(house_train[null_columns[i]].dtype)] for i in range(len(null_columns))}\n",
    "null_columns_type"
   ]
  },
  {
   "cell_type": "code",
   "execution_count": 250,
   "metadata": {},
   "outputs": [
    {
     "data": {
      "text/plain": [
       "{'MSZoning': [4, 'object'],\n",
       " 'LotFrontage': [227, 'float64'],\n",
       " 'Alley': [1352, 'object'],\n",
       " 'Utilities': [2, 'object'],\n",
       " 'Exterior1st': [1, 'object'],\n",
       " 'Exterior2nd': [1, 'object'],\n",
       " 'MasVnrType': [16, 'object'],\n",
       " 'MasVnrArea': [15, 'float64'],\n",
       " 'BsmtQual': [44, 'object'],\n",
       " 'BsmtCond': [45, 'object'],\n",
       " 'BsmtExposure': [44, 'object'],\n",
       " 'BsmtFinType1': [42, 'object'],\n",
       " 'BsmtFinSF1': [1, 'float64'],\n",
       " 'BsmtFinType2': [42, 'object'],\n",
       " 'BsmtFinSF2': [1, 'float64'],\n",
       " 'BsmtUnfSF': [1, 'float64'],\n",
       " 'TotalBsmtSF': [1, 'float64'],\n",
       " 'BsmtFullBath': [2, 'float64'],\n",
       " 'BsmtHalfBath': [2, 'float64'],\n",
       " 'KitchenQual': [1, 'object'],\n",
       " 'Functional': [2, 'object'],\n",
       " 'FireplaceQu': [730, 'object'],\n",
       " 'GarageType': [76, 'object'],\n",
       " 'GarageYrBlt': [78, 'float64'],\n",
       " 'GarageFinish': [78, 'object'],\n",
       " 'GarageCars': [1, 'float64'],\n",
       " 'GarageArea': [1, 'float64'],\n",
       " 'GarageQual': [78, 'object'],\n",
       " 'GarageCond': [78, 'object'],\n",
       " 'PoolQC': [1456, 'object'],\n",
       " 'Fence': [1169, 'object'],\n",
       " 'MiscFeature': [1408, 'object'],\n",
       " 'SaleType': [1, 'object']}"
      ]
     },
     "execution_count": 250,
     "metadata": {},
     "output_type": "execute_result"
    }
   ],
   "source": [
    "null_columns_test = house_test.columns[house_test.isna().any()].tolist()\n",
    "null_columns_type_test = {null_columns_test[i] : [house_test[null_columns_test[i]].isnull().sum(), str(house_test[null_columns_test[i]].dtype)] for i in range(len(null_columns_test))}\n",
    "null_columns_type_test"
   ]
  },
  {
   "cell_type": "markdown",
   "metadata": {},
   "source": [
    "* **Primer diccionario:** Columnas con valores nulos y su cantidad, para *house_train*\n",
    "* **Segundo diccionario:** Columnas con valores nulos y su cantidad, para *house_test*"
   ]
  },
  {
   "cell_type": "markdown",
   "metadata": {},
   "source": [
    "* **FASE DE TRANSFORMACIÓN, PREVIA AL MODELO**"
   ]
  },
  {
   "cell_type": "code",
   "execution_count": 251,
   "metadata": {},
   "outputs": [],
   "source": [
    "house_train.LotFrontage = house_train.LotFrontage.fillna(house_train.LotFrontage.mean())\n",
    "house_train.MasVnrType = house_train.MasVnrType.fillna(house_train.MasVnrType.mode()[0])\n",
    "house_train.MasVnrArea = house_train.MasVnrArea.fillna(house_train.MasVnrArea.mean())\n",
    "house_train.BsmtQual = house_train.BsmtQual.fillna(house_train.BsmtQual.mode()[0])\n",
    "house_train.BsmtCond = house_train.BsmtCond.fillna(house_train.BsmtCond.mode()[0])\n",
    "house_train.BsmtExposure = house_train.BsmtExposure.fillna(house_train.BsmtExposure.mode()[0])\n",
    "house_train.BsmtFinType1 = house_train.BsmtFinType1.fillna(house_train.BsmtFinType1.mode()[0])\n",
    "house_train.BsmtFinType2 = house_train.BsmtFinType2.fillna(house_train.BsmtFinType2.mode()[0])\n",
    "house_train.Electrical = house_train.Electrical.fillna(house_train.Electrical.mode()[0])\n",
    "house_train.FireplaceQu = house_train.FireplaceQu.fillna(house_train.FireplaceQu.mode()[0])\n",
    "house_train.GarageType = house_train.GarageType.fillna(house_train.GarageType.mode()[0])\n",
    "house_train.GarageYrBlt = house_train.GarageYrBlt.fillna(house_train.GarageYrBlt.mean())\n",
    "house_train.GarageFinish = house_train.GarageFinish.fillna(house_train.GarageFinish.mode()[0])\n",
    "house_train.GarageQual = house_train.GarageQual.fillna(house_train.GarageQual.mode()[0])\n",
    "house_train.GarageCond = house_train.GarageCond.fillna(house_train.GarageCond.mode()[0])"
   ]
  },
  {
   "cell_type": "markdown",
   "metadata": {},
   "source": [
    "* Para *house_train*: Si la variable es categorica, los nulos se remplazan con el valor **mas repetido**.\n",
    "                        Si es numerica, los nulos se remplazan con la **media**."
   ]
  },
  {
   "cell_type": "code",
   "execution_count": 252,
   "metadata": {},
   "outputs": [],
   "source": [
    "house_test.LotFrontage = house_test.LotFrontage.fillna(house_test.LotFrontage.mean())\n",
    "house_test.MasVnrType = house_test.MasVnrType.fillna(house_test.MasVnrType.mode()[0])\n",
    "house_test.MasVnrArea = house_test.MasVnrArea.fillna(house_test.MasVnrArea.mean())\n",
    "house_test.BsmtQual = house_test.BsmtQual.fillna(house_test.BsmtQual.mode()[0])\n",
    "house_test.BsmtCond = house_test.BsmtCond.fillna(house_test.BsmtCond.mode()[0])\n",
    "house_test.BsmtExposure = house_test.BsmtExposure.fillna(house_test.BsmtExposure.mode()[0])\n",
    "house_test.BsmtFinType1 = house_test.BsmtFinType1.fillna(house_test.BsmtFinType1.mode()[0])\n",
    "house_test.BsmtFinType2 = house_test.BsmtFinType2.fillna(house_test.BsmtFinType2.mode()[0])\n",
    "house_test.Electrical = house_test.Electrical.fillna(house_test.Electrical.mode()[0])\n",
    "house_test.FireplaceQu = house_test.FireplaceQu.fillna(house_test.FireplaceQu.mode()[0])\n",
    "house_test.GarageType = house_test.GarageType.fillna(house_test.GarageType.mode()[0])\n",
    "house_test.GarageYrBlt = house_test.GarageYrBlt.fillna(house_test.GarageYrBlt.mean())\n",
    "house_test.GarageFinish = house_test.GarageFinish.fillna(house_test.GarageFinish.mode()[0])\n",
    "house_test.GarageQual = house_test.GarageQual.fillna(house_test.GarageQual.mode()[0])\n",
    "house_test.GarageCond = house_test.GarageCond.fillna(house_test.GarageCond.mode()[0])\n",
    "\n",
    "house_test.MSZoning = house_test.MSZoning.fillna(house_test.MSZoning.mode()[0])\n",
    "house_test.Utilities = house_test.Utilities.fillna(house_test.Utilities.mode()[0])\n",
    "house_test.Exterior1st = house_test.Exterior1st.fillna(house_test.Exterior1st.mode()[0])\n",
    "house_test.Exterior2nd = house_test.Exterior2nd.fillna(house_test.Exterior2nd.mode()[0])\n",
    "house_test.BsmtFinSF1 = house_test.BsmtFinSF1.fillna(house_test.BsmtFinSF1.mean())\n",
    "house_test.BsmtFinSF2 = house_test.BsmtFinSF2.fillna(house_test.BsmtFinSF2.mean())\n",
    "house_test.BsmtUnfSF = house_test.BsmtUnfSF.fillna(house_test.BsmtUnfSF.mean())\n",
    "house_test.TotalBsmtSF = house_test.TotalBsmtSF.fillna(house_test.TotalBsmtSF.mean())\n",
    "house_test.BsmtFullBath = house_test.BsmtFullBath.fillna(house_test.BsmtFullBath.mean())\n",
    "house_test.BsmtHalfBath = house_test.BsmtHalfBath.fillna(house_test.BsmtHalfBath.mean())\n",
    "house_test.KitchenQual = house_test.KitchenQual.fillna(house_test.KitchenQual.mode()[0])\n",
    "house_test.Functional = house_test.Functional.fillna(house_test.Functional.mode()[0])\n",
    "house_test.GarageCars = house_test.GarageCars.fillna(house_test.GarageCars.mean())\n",
    "house_test.GarageArea = house_test.GarageArea.fillna(house_test.GarageArea.mean())\n",
    "house_test.SaleType = house_test.SaleType.fillna(house_test.SaleType.mode()[0])"
   ]
  },
  {
   "cell_type": "markdown",
   "metadata": {},
   "source": [
    "* Para *house_test*: Si la variable es categorica, los nulos se remplazan con el valor **mas repetido**.\n",
    "                        Si es numerica, los nulos se remplazan con la **media**."
   ]
  },
  {
   "cell_type": "code",
   "execution_count": 253,
   "metadata": {},
   "outputs": [],
   "source": [
    "house_train.drop(['Id', 'Alley', 'PoolQC', 'Fence', 'MiscFeature'], axis=1, inplace=True)\n",
    "house_test.drop(['Id', 'Alley', 'PoolQC', 'Fence', 'MiscFeature'], axis=1, inplace=True)"
   ]
  },
  {
   "cell_type": "markdown",
   "metadata": {},
   "source": [
    "Justificación de dropeo:\n",
    "- **Id:** No podria interactuar con el modelo\n",
    "- **Alley:** La suma de sus valores nulos supera el 50%\n",
    "- **PoolQC:** La suma de sus valores nulos supera el 50%\n",
    "- **Fence:** La suma de sus valores nulos supera el 50%\n",
    "- **MiscFeature:** La suma de sus valores nulos supera el 50%"
   ]
  },
  {
   "cell_type": "code",
   "execution_count": 254,
   "metadata": {},
   "outputs": [
    {
     "data": {
      "text/plain": [
       "{}"
      ]
     },
     "execution_count": 254,
     "metadata": {},
     "output_type": "execute_result"
    }
   ],
   "source": [
    "null_columns = house_train.columns[house_train.isna().any()].tolist()\n",
    "null_columns_type = {null_columns[i] : [house_train[null_columns[i]].isnull().sum(), str(house_train[null_columns[i]].dtype)] for i in range(len(null_columns))}\n",
    "null_columns_type"
   ]
  },
  {
   "cell_type": "code",
   "execution_count": 255,
   "metadata": {},
   "outputs": [
    {
     "data": {
      "text/plain": [
       "{}"
      ]
     },
     "execution_count": 255,
     "metadata": {},
     "output_type": "execute_result"
    }
   ],
   "source": [
    "null_columns_test = house_test.columns[house_test.isna().any()].tolist()\n",
    "null_columns_type_test = {null_columns_test[i] : [house_test[null_columns_test[i]].isnull().sum(), str(house_test[null_columns_test[i]].dtype)] for i in range(len(null_columns_test))}\n",
    "null_columns_type_test"
   ]
  },
  {
   "cell_type": "markdown",
   "metadata": {},
   "source": [
    "* **Verificación** de valores nulos, para ambos DataSets"
   ]
  },
  {
   "cell_type": "code",
   "execution_count": 256,
   "metadata": {},
   "outputs": [
    {
     "data": {
      "text/plain": [
       "(1460, 76)"
      ]
     },
     "execution_count": 256,
     "metadata": {},
     "output_type": "execute_result"
    }
   ],
   "source": [
    "house_train.shape"
   ]
  },
  {
   "cell_type": "code",
   "execution_count": 257,
   "metadata": {},
   "outputs": [
    {
     "data": {
      "text/plain": [
       "(1459, 75)"
      ]
     },
     "execution_count": 257,
     "metadata": {},
     "output_type": "execute_result"
    }
   ],
   "source": [
    "house_test.shape"
   ]
  },
  {
   "cell_type": "code",
   "execution_count": 276,
   "metadata": {},
   "outputs": [],
   "source": [
    "object_columns = list(dict(house_train.select_dtypes(include=['object']).dtypes).keys())\n",
    "int_columns = list(dict(house_train.select_dtypes(include=['int64']).dtypes).keys())\n",
    "float_columns = list(dict(house_train.select_dtypes(include=['float64']).dtypes).keys())\n",
    "numeric_columns = int_columns + float_columns"
   ]
  },
  {
   "cell_type": "code",
   "execution_count": 309,
   "metadata": {},
   "outputs": [],
   "source": [
    "numeric_columns.remove('SalePrice')"
   ]
  },
  {
   "cell_type": "markdown",
   "metadata": {},
   "source": [
    "* Esta lista contiene el nombre de todas las columnas de tipo Object (*Categoricas*) "
   ]
  },
  {
   "cell_type": "code",
   "execution_count": 310,
   "metadata": {},
   "outputs": [],
   "source": [
    "final_df= pd.concat([house_train, house_test], axis=0)"
   ]
  },
  {
   "cell_type": "markdown",
   "metadata": {},
   "source": [
    "Justificación de concatenación:\n",
    "* Se previene el hecho de que en las variables categoricas de testeo, **existan más categorias** que en las de entrenamiento  "
   ]
  },
  {
   "cell_type": "code",
   "execution_count": 278,
   "metadata": {},
   "outputs": [],
   "source": [
    "def category_onehot_multcolumns(multcolumns):\n",
    "    df_final=final_df\n",
    "    i=0\n",
    "    for fields in multcolumns:\n",
    "        print(fields)\n",
    "        df1=pd.get_dummies(final_df[fields], drop_first=True)\n",
    "\n",
    "        final_df.drop([fields], axis=1, inplace=True)\n",
    "        if i==0:\n",
    "            df_final=df1.copy()\n",
    "        else:\n",
    "            df_final=pd.concat([df_final, df1], axis=1)\n",
    "        i+=1\n",
    "    df_final=pd.concat([final_df, df_final], axis=1)\n",
    "    return df_final"
   ]
  },
  {
   "cell_type": "code",
   "execution_count": 311,
   "metadata": {},
   "outputs": [],
   "source": [
    "from sklearn.preprocessing import StandardScaler\n",
    "\n",
    "for i in numeric_columns:\n",
    "        final_df[i] = StandardScaler().fit_transform(final_df[i].values.reshape(-1,1))"
   ]
  },
  {
   "cell_type": "markdown",
   "metadata": {},
   "source": [
    "* Esta funcion, interactua con la lista de variables categoricas (de ambos DataSets) y **genera las correspondientes dummies** "
   ]
  },
  {
   "cell_type": "code",
   "execution_count": 312,
   "metadata": {},
   "outputs": [
    {
     "data": {
      "text/plain": [
       "(2919, 76)"
      ]
     },
     "execution_count": 312,
     "metadata": {},
     "output_type": "execute_result"
    }
   ],
   "source": [
    "final_df.shape"
   ]
  },
  {
   "cell_type": "markdown",
   "metadata": {},
   "source": [
    "* Estado actual de concatenación"
   ]
  },
  {
   "cell_type": "code",
   "execution_count": 313,
   "metadata": {},
   "outputs": [
    {
     "name": "stdout",
     "output_type": "stream",
     "text": [
      "MSZoning\n",
      "Street\n",
      "LotShape\n",
      "LandContour\n",
      "Utilities\n",
      "LotConfig\n",
      "LandSlope\n",
      "Neighborhood\n",
      "Condition1\n",
      "Condition2\n",
      "BldgType\n",
      "HouseStyle\n",
      "RoofStyle\n",
      "RoofMatl\n",
      "Exterior1st\n",
      "Exterior2nd\n",
      "MasVnrType\n",
      "ExterQual\n",
      "ExterCond\n",
      "Foundation\n",
      "BsmtQual\n",
      "BsmtCond\n",
      "BsmtExposure\n",
      "BsmtFinType1\n",
      "BsmtFinType2\n",
      "Heating\n",
      "HeatingQC\n",
      "CentralAir\n",
      "Electrical\n",
      "KitchenQual\n",
      "Functional\n",
      "FireplaceQu\n",
      "GarageType\n",
      "GarageFinish\n",
      "GarageQual\n",
      "GarageCond\n",
      "PavedDrive\n",
      "SaleType\n",
      "SaleCondition\n"
     ]
    }
   ],
   "source": [
    "final_df=category_onehot_multcolumns(object_columns)"
   ]
  },
  {
   "cell_type": "code",
   "execution_count": 314,
   "metadata": {},
   "outputs": [
    {
     "data": {
      "text/plain": [
       "(2919, 237)"
      ]
     },
     "execution_count": 314,
     "metadata": {},
     "output_type": "execute_result"
    }
   ],
   "source": [
    "final_df.shape"
   ]
  },
  {
   "cell_type": "markdown",
   "metadata": {},
   "source": [
    "* Estado posterior a obtener las dummies"
   ]
  },
  {
   "cell_type": "code",
   "execution_count": 315,
   "metadata": {},
   "outputs": [],
   "source": [
    "final_df=final_df.loc[:, ~final_df.columns.duplicated()]"
   ]
  },
  {
   "cell_type": "markdown",
   "metadata": {},
   "source": [
    "* Se excluyen las columnas duplicadas"
   ]
  },
  {
   "cell_type": "code",
   "execution_count": 316,
   "metadata": {},
   "outputs": [
    {
     "data": {
      "text/plain": [
       "(2919, 177)"
      ]
     },
     "execution_count": 316,
     "metadata": {},
     "output_type": "execute_result"
    }
   ],
   "source": [
    "final_df.shape"
   ]
  },
  {
   "cell_type": "markdown",
   "metadata": {},
   "source": [
    "* Estado posterior a depuración de duplicados"
   ]
  },
  {
   "cell_type": "code",
   "execution_count": 319,
   "metadata": {},
   "outputs": [
    {
     "data": {
      "text/html": [
       "<div>\n",
       "<style scoped>\n",
       "    .dataframe tbody tr th:only-of-type {\n",
       "        vertical-align: middle;\n",
       "    }\n",
       "\n",
       "    .dataframe tbody tr th {\n",
       "        vertical-align: top;\n",
       "    }\n",
       "\n",
       "    .dataframe thead th {\n",
       "        text-align: right;\n",
       "    }\n",
       "</style>\n",
       "<table border=\"1\" class=\"dataframe\">\n",
       "  <thead>\n",
       "    <tr style=\"text-align: right;\">\n",
       "      <th></th>\n",
       "      <th>MSSubClass</th>\n",
       "      <th>LotFrontage</th>\n",
       "      <th>LotArea</th>\n",
       "      <th>OverallQual</th>\n",
       "      <th>OverallCond</th>\n",
       "      <th>YearBuilt</th>\n",
       "      <th>YearRemodAdd</th>\n",
       "      <th>MasVnrArea</th>\n",
       "      <th>BsmtFinSF1</th>\n",
       "      <th>BsmtFinSF2</th>\n",
       "      <th>...</th>\n",
       "      <th>ConLI</th>\n",
       "      <th>ConLw</th>\n",
       "      <th>New</th>\n",
       "      <th>Oth</th>\n",
       "      <th>WD</th>\n",
       "      <th>AdjLand</th>\n",
       "      <th>Alloca</th>\n",
       "      <th>Family</th>\n",
       "      <th>Normal</th>\n",
       "      <th>Partial</th>\n",
       "    </tr>\n",
       "  </thead>\n",
       "  <tbody>\n",
       "    <tr>\n",
       "      <th>0</th>\n",
       "      <td>0.067331</td>\n",
       "      <td>-0.202499</td>\n",
       "      <td>-0.217879</td>\n",
       "      <td>0.646183</td>\n",
       "      <td>-0.507284</td>\n",
       "      <td>1.046258</td>\n",
       "      <td>0.896833</td>\n",
       "      <td>0.525222</td>\n",
       "      <td>0.580909</td>\n",
       "      <td>-0.293136</td>\n",
       "      <td>...</td>\n",
       "      <td>0</td>\n",
       "      <td>0</td>\n",
       "      <td>0</td>\n",
       "      <td>0</td>\n",
       "      <td>1</td>\n",
       "      <td>0</td>\n",
       "      <td>0</td>\n",
       "      <td>0</td>\n",
       "      <td>1</td>\n",
       "      <td>0</td>\n",
       "    </tr>\n",
       "    <tr>\n",
       "      <th>1</th>\n",
       "      <td>-0.873616</td>\n",
       "      <td>0.501370</td>\n",
       "      <td>-0.072044</td>\n",
       "      <td>-0.063185</td>\n",
       "      <td>2.188279</td>\n",
       "      <td>0.154764</td>\n",
       "      <td>-0.395604</td>\n",
       "      <td>-0.572230</td>\n",
       "      <td>1.178114</td>\n",
       "      <td>-0.293136</td>\n",
       "      <td>...</td>\n",
       "      <td>0</td>\n",
       "      <td>0</td>\n",
       "      <td>0</td>\n",
       "      <td>0</td>\n",
       "      <td>1</td>\n",
       "      <td>0</td>\n",
       "      <td>0</td>\n",
       "      <td>0</td>\n",
       "      <td>1</td>\n",
       "      <td>0</td>\n",
       "    </tr>\n",
       "    <tr>\n",
       "      <th>2</th>\n",
       "      <td>0.067331</td>\n",
       "      <td>-0.061725</td>\n",
       "      <td>0.137197</td>\n",
       "      <td>0.646183</td>\n",
       "      <td>-0.507284</td>\n",
       "      <td>0.980221</td>\n",
       "      <td>0.848965</td>\n",
       "      <td>0.334848</td>\n",
       "      <td>0.097875</td>\n",
       "      <td>-0.293136</td>\n",
       "      <td>...</td>\n",
       "      <td>0</td>\n",
       "      <td>0</td>\n",
       "      <td>0</td>\n",
       "      <td>0</td>\n",
       "      <td>1</td>\n",
       "      <td>0</td>\n",
       "      <td>0</td>\n",
       "      <td>0</td>\n",
       "      <td>1</td>\n",
       "      <td>0</td>\n",
       "    </tr>\n",
       "    <tr>\n",
       "      <th>3</th>\n",
       "      <td>0.302568</td>\n",
       "      <td>-0.437121</td>\n",
       "      <td>-0.078385</td>\n",
       "      <td>0.646183</td>\n",
       "      <td>-0.507284</td>\n",
       "      <td>-1.859351</td>\n",
       "      <td>-0.682812</td>\n",
       "      <td>-0.572230</td>\n",
       "      <td>-0.494939</td>\n",
       "      <td>-0.293136</td>\n",
       "      <td>...</td>\n",
       "      <td>0</td>\n",
       "      <td>0</td>\n",
       "      <td>0</td>\n",
       "      <td>0</td>\n",
       "      <td>1</td>\n",
       "      <td>0</td>\n",
       "      <td>0</td>\n",
       "      <td>0</td>\n",
       "      <td>0</td>\n",
       "      <td>0</td>\n",
       "    </tr>\n",
       "    <tr>\n",
       "      <th>4</th>\n",
       "      <td>0.067331</td>\n",
       "      <td>0.689068</td>\n",
       "      <td>0.518903</td>\n",
       "      <td>1.355551</td>\n",
       "      <td>-0.507284</td>\n",
       "      <td>0.947203</td>\n",
       "      <td>0.753229</td>\n",
       "      <td>1.387505</td>\n",
       "      <td>0.468933</td>\n",
       "      <td>-0.293136</td>\n",
       "      <td>...</td>\n",
       "      <td>0</td>\n",
       "      <td>0</td>\n",
       "      <td>0</td>\n",
       "      <td>0</td>\n",
       "      <td>1</td>\n",
       "      <td>0</td>\n",
       "      <td>0</td>\n",
       "      <td>0</td>\n",
       "      <td>1</td>\n",
       "      <td>0</td>\n",
       "    </tr>\n",
       "    <tr>\n",
       "      <th>...</th>\n",
       "      <td>...</td>\n",
       "      <td>...</td>\n",
       "      <td>...</td>\n",
       "      <td>...</td>\n",
       "      <td>...</td>\n",
       "      <td>...</td>\n",
       "      <td>...</td>\n",
       "      <td>...</td>\n",
       "      <td>...</td>\n",
       "      <td>...</td>\n",
       "      <td>...</td>\n",
       "      <td>...</td>\n",
       "      <td>...</td>\n",
       "      <td>...</td>\n",
       "      <td>...</td>\n",
       "      <td>...</td>\n",
       "      <td>...</td>\n",
       "      <td>...</td>\n",
       "      <td>...</td>\n",
       "      <td>...</td>\n",
       "      <td>...</td>\n",
       "    </tr>\n",
       "    <tr>\n",
       "      <th>1454</th>\n",
       "      <td>2.419700</td>\n",
       "      <td>-2.267179</td>\n",
       "      <td>-1.043937</td>\n",
       "      <td>-1.481920</td>\n",
       "      <td>1.289758</td>\n",
       "      <td>-0.043346</td>\n",
       "      <td>-0.682812</td>\n",
       "      <td>-0.572230</td>\n",
       "      <td>-0.969191</td>\n",
       "      <td>-0.293136</td>\n",
       "      <td>...</td>\n",
       "      <td>0</td>\n",
       "      <td>0</td>\n",
       "      <td>0</td>\n",
       "      <td>0</td>\n",
       "      <td>1</td>\n",
       "      <td>0</td>\n",
       "      <td>0</td>\n",
       "      <td>0</td>\n",
       "      <td>1</td>\n",
       "      <td>0</td>\n",
       "    </tr>\n",
       "    <tr>\n",
       "      <th>1455</th>\n",
       "      <td>2.419700</td>\n",
       "      <td>-2.267179</td>\n",
       "      <td>-1.049263</td>\n",
       "      <td>-1.481920</td>\n",
       "      <td>-0.507284</td>\n",
       "      <td>-0.043346</td>\n",
       "      <td>-0.682812</td>\n",
       "      <td>-0.572230</td>\n",
       "      <td>-0.415897</td>\n",
       "      <td>-0.293136</td>\n",
       "      <td>...</td>\n",
       "      <td>0</td>\n",
       "      <td>0</td>\n",
       "      <td>0</td>\n",
       "      <td>0</td>\n",
       "      <td>1</td>\n",
       "      <td>0</td>\n",
       "      <td>0</td>\n",
       "      <td>0</td>\n",
       "      <td>0</td>\n",
       "      <td>0</td>\n",
       "    </tr>\n",
       "    <tr>\n",
       "      <th>1456</th>\n",
       "      <td>-0.873616</td>\n",
       "      <td>4.255334</td>\n",
       "      <td>1.246808</td>\n",
       "      <td>-0.772552</td>\n",
       "      <td>1.289758</td>\n",
       "      <td>-0.373528</td>\n",
       "      <td>0.561757</td>\n",
       "      <td>-0.572230</td>\n",
       "      <td>1.718233</td>\n",
       "      <td>-0.293136</td>\n",
       "      <td>...</td>\n",
       "      <td>0</td>\n",
       "      <td>0</td>\n",
       "      <td>0</td>\n",
       "      <td>0</td>\n",
       "      <td>1</td>\n",
       "      <td>0</td>\n",
       "      <td>0</td>\n",
       "      <td>0</td>\n",
       "      <td>0</td>\n",
       "      <td>0</td>\n",
       "    </tr>\n",
       "    <tr>\n",
       "      <th>1457</th>\n",
       "      <td>0.655424</td>\n",
       "      <td>-0.343272</td>\n",
       "      <td>0.034605</td>\n",
       "      <td>-0.772552</td>\n",
       "      <td>-0.507284</td>\n",
       "      <td>0.683057</td>\n",
       "      <td>0.370284</td>\n",
       "      <td>-0.572230</td>\n",
       "      <td>-0.229271</td>\n",
       "      <td>-0.293136</td>\n",
       "      <td>...</td>\n",
       "      <td>0</td>\n",
       "      <td>0</td>\n",
       "      <td>0</td>\n",
       "      <td>0</td>\n",
       "      <td>1</td>\n",
       "      <td>0</td>\n",
       "      <td>0</td>\n",
       "      <td>0</td>\n",
       "      <td>1</td>\n",
       "      <td>0</td>\n",
       "    </tr>\n",
       "    <tr>\n",
       "      <th>1458</th>\n",
       "      <td>0.067331</td>\n",
       "      <td>0.219822</td>\n",
       "      <td>-0.068620</td>\n",
       "      <td>0.646183</td>\n",
       "      <td>-0.507284</td>\n",
       "      <td>0.716075</td>\n",
       "      <td>0.466021</td>\n",
       "      <td>-0.045901</td>\n",
       "      <td>0.695080</td>\n",
       "      <td>-0.293136</td>\n",
       "      <td>...</td>\n",
       "      <td>0</td>\n",
       "      <td>0</td>\n",
       "      <td>0</td>\n",
       "      <td>0</td>\n",
       "      <td>1</td>\n",
       "      <td>0</td>\n",
       "      <td>0</td>\n",
       "      <td>0</td>\n",
       "      <td>1</td>\n",
       "      <td>0</td>\n",
       "    </tr>\n",
       "  </tbody>\n",
       "</table>\n",
       "<p>2919 rows × 177 columns</p>\n",
       "</div>"
      ],
      "text/plain": [
       "      MSSubClass  LotFrontage   LotArea  OverallQual  OverallCond  YearBuilt  \\\n",
       "0       0.067331    -0.202499 -0.217879     0.646183    -0.507284   1.046258   \n",
       "1      -0.873616     0.501370 -0.072044    -0.063185     2.188279   0.154764   \n",
       "2       0.067331    -0.061725  0.137197     0.646183    -0.507284   0.980221   \n",
       "3       0.302568    -0.437121 -0.078385     0.646183    -0.507284  -1.859351   \n",
       "4       0.067331     0.689068  0.518903     1.355551    -0.507284   0.947203   \n",
       "...          ...          ...       ...          ...          ...        ...   \n",
       "1454    2.419700    -2.267179 -1.043937    -1.481920     1.289758  -0.043346   \n",
       "1455    2.419700    -2.267179 -1.049263    -1.481920    -0.507284  -0.043346   \n",
       "1456   -0.873616     4.255334  1.246808    -0.772552     1.289758  -0.373528   \n",
       "1457    0.655424    -0.343272  0.034605    -0.772552    -0.507284   0.683057   \n",
       "1458    0.067331     0.219822 -0.068620     0.646183    -0.507284   0.716075   \n",
       "\n",
       "      YearRemodAdd  MasVnrArea  BsmtFinSF1  BsmtFinSF2  ...  ConLI  ConLw  \\\n",
       "0         0.896833    0.525222    0.580909   -0.293136  ...      0      0   \n",
       "1        -0.395604   -0.572230    1.178114   -0.293136  ...      0      0   \n",
       "2         0.848965    0.334848    0.097875   -0.293136  ...      0      0   \n",
       "3        -0.682812   -0.572230   -0.494939   -0.293136  ...      0      0   \n",
       "4         0.753229    1.387505    0.468933   -0.293136  ...      0      0   \n",
       "...            ...         ...         ...         ...  ...    ...    ...   \n",
       "1454     -0.682812   -0.572230   -0.969191   -0.293136  ...      0      0   \n",
       "1455     -0.682812   -0.572230   -0.415897   -0.293136  ...      0      0   \n",
       "1456      0.561757   -0.572230    1.718233   -0.293136  ...      0      0   \n",
       "1457      0.370284   -0.572230   -0.229271   -0.293136  ...      0      0   \n",
       "1458      0.466021   -0.045901    0.695080   -0.293136  ...      0      0   \n",
       "\n",
       "      New  Oth  WD  AdjLand  Alloca  Family  Normal  Partial  \n",
       "0       0    0   1        0       0       0       1        0  \n",
       "1       0    0   1        0       0       0       1        0  \n",
       "2       0    0   1        0       0       0       1        0  \n",
       "3       0    0   1        0       0       0       0        0  \n",
       "4       0    0   1        0       0       0       1        0  \n",
       "...   ...  ...  ..      ...     ...     ...     ...      ...  \n",
       "1454    0    0   1        0       0       0       1        0  \n",
       "1455    0    0   1        0       0       0       0        0  \n",
       "1456    0    0   1        0       0       0       0        0  \n",
       "1457    0    0   1        0       0       0       1        0  \n",
       "1458    0    0   1        0       0       0       1        0  \n",
       "\n",
       "[2919 rows x 177 columns]"
      ]
     },
     "execution_count": 319,
     "metadata": {},
     "output_type": "execute_result"
    }
   ],
   "source": [
    "final_df"
   ]
  },
  {
   "cell_type": "code",
   "execution_count": 320,
   "metadata": {},
   "outputs": [],
   "source": [
    "df_train=final_df.iloc[:1460, :]\n",
    "df_test=final_df.iloc[1460:, :]"
   ]
  },
  {
   "cell_type": "markdown",
   "metadata": {},
   "source": [
    "* Se divide la concatenación para devolver los DataSets de entrenamiento y testeo a su **forma** original"
   ]
  },
  {
   "cell_type": "code",
   "execution_count": 321,
   "metadata": {},
   "outputs": [
    {
     "name": "stderr",
     "output_type": "stream",
     "text": [
      "C:\\Users\\Usuario\\AppData\\Local\\Temp\\ipykernel_7124\\3029927858.py:1: SettingWithCopyWarning: \n",
      "A value is trying to be set on a copy of a slice from a DataFrame\n",
      "\n",
      "See the caveats in the documentation: https://pandas.pydata.org/pandas-docs/stable/user_guide/indexing.html#returning-a-view-versus-a-copy\n",
      "  df_test.drop(['SalePrice'], axis=1, inplace=True)\n"
     ]
    }
   ],
   "source": [
    "df_test.drop(['SalePrice'], axis=1, inplace=True)"
   ]
  },
  {
   "cell_type": "markdown",
   "metadata": {},
   "source": [
    "* Eliminamos la variable dependiente del DataSet de testeo, porque inicialmente no lo tenia"
   ]
  },
  {
   "cell_type": "code",
   "execution_count": 30,
   "metadata": {},
   "outputs": [],
   "source": [
    "df_train.to_parquet('df_train.parquet')\n",
    "df_test.to_parquet('df_test.parquet')"
   ]
  },
  {
   "cell_type": "markdown",
   "metadata": {},
   "source": [
    "* Exportamos nuestros DataSets normalizados y sus dummies"
   ]
  },
  {
   "cell_type": "code",
   "execution_count": 31,
   "metadata": {},
   "outputs": [],
   "source": [
    "df_train = pd.read_parquet('df_train.parquet', 'pyarrow')\n",
    "df_test = pd.read_parquet('df_test.parquet', 'pyarrow')"
   ]
  },
  {
   "cell_type": "markdown",
   "metadata": {},
   "source": [
    "* Ahora podemos trabajar desde estas importaciones"
   ]
  },
  {
   "cell_type": "code",
   "execution_count": 322,
   "metadata": {},
   "outputs": [
    {
     "data": {
      "text/plain": [
       "(1459, 176)"
      ]
     },
     "execution_count": 322,
     "metadata": {},
     "output_type": "execute_result"
    }
   ],
   "source": [
    "df_test.shape"
   ]
  },
  {
   "cell_type": "markdown",
   "metadata": {},
   "source": [
    "* **FASE DE PUESTA EN MARCHA DEL MODELO**"
   ]
  },
  {
   "cell_type": "code",
   "execution_count": 323,
   "metadata": {},
   "outputs": [],
   "source": [
    "X = df_train.drop(['SalePrice'], axis=1)\n",
    "y = df_train['SalePrice']"
   ]
  },
  {
   "cell_type": "code",
   "execution_count": 324,
   "metadata": {},
   "outputs": [],
   "source": [
    "from sklearn.model_selection import train_test_split\n",
    "\n",
    "X_train, X_test, y_train, y_test = train_test_split(X, y, test_size=0.1, random_state=42)"
   ]
  },
  {
   "cell_type": "markdown",
   "metadata": {},
   "source": [
    "* Tomamos todas las variables independientes de las que disponemos como **X**\n",
    "* Establecemos el precio como variable dependiente o **y**"
   ]
  },
  {
   "cell_type": "code",
   "execution_count": 295,
   "metadata": {},
   "outputs": [],
   "source": [
    "from sklearn.metrics import mean_squared_error, explained_variance_score\n",
    "import matplotlib.pyplot as plt\n",
    "import seaborn as sns"
   ]
  },
  {
   "cell_type": "code",
   "execution_count": 296,
   "metadata": {},
   "outputs": [],
   "source": [
    "def plot_prediction_analisys(y, y_pred, figsize=(10,4), title=''):\n",
    "    fig, axs = plt.subplots(1, 2, figsize=figsize)\n",
    "    axs[0].scatter(y, y_pred)\n",
    "    mn = min(np.min(y), np.min(y_pred))\n",
    "    mx = max(np.max(y), np.max(y_pred))\n",
    "    axs[0].plot([mn, mx], [mn, mx], c='red')\n",
    "    axs[0].set_xlabel('$y$')\n",
    "    axs[0].set_ylabel('$\\hat{y}$')\n",
    "    rmse = np.sqrt(mean_squared_error(y, y_pred))\n",
    "    evs = explained_variance_score(y, y_pred)\n",
    "    axs[0].set_title('rmse = {:.2f}, evs= {:.2f}'.format(rmse, evs))\n",
    "\n",
    "    axs[1].hist(y-y_pred, bins=50)\n",
    "    avg = np.mean(y-y_pred)\n",
    "    std = np.std(y-y_pred)\n",
    "    axs[1].set_xlabel('$y - \\hat{y}$')\n",
    "    axs[1].set_title('Histogram prediction error, $\\mu$ = {:.2f}, $\\sigma$ = {:.2f}'.format(avg, std))\n",
    "\n",
    "    fig.suptitle(title, fontweight =\"bold\", size=16, y=1.12)"
   ]
  },
  {
   "cell_type": "markdown",
   "metadata": {},
   "source": [
    "* Esta función, dibuja por nosotros el esquema de dispersión de nuestra regresión y un histograma de errores, además, nos regresa los indicadores que necesitamos para evaluar el estado actual del modelo y su capacidad predictiva.   "
   ]
  },
  {
   "cell_type": "code",
   "execution_count": 297,
   "metadata": {},
   "outputs": [],
   "source": [
    "from sklearn.pipeline import Pipeline\n",
    "from sklearn.ensemble import RandomForestRegressor\n",
    "from sklearn.preprocessing import StandardScaler"
   ]
  },
  {
   "cell_type": "code",
   "execution_count": 325,
   "metadata": {},
   "outputs": [
    {
     "data": {
      "text/html": [
       "<style>#sk-container-id-15 {color: black;background-color: white;}#sk-container-id-15 pre{padding: 0;}#sk-container-id-15 div.sk-toggleable {background-color: white;}#sk-container-id-15 label.sk-toggleable__label {cursor: pointer;display: block;width: 100%;margin-bottom: 0;padding: 0.3em;box-sizing: border-box;text-align: center;}#sk-container-id-15 label.sk-toggleable__label-arrow:before {content: \"▸\";float: left;margin-right: 0.25em;color: #696969;}#sk-container-id-15 label.sk-toggleable__label-arrow:hover:before {color: black;}#sk-container-id-15 div.sk-estimator:hover label.sk-toggleable__label-arrow:before {color: black;}#sk-container-id-15 div.sk-toggleable__content {max-height: 0;max-width: 0;overflow: hidden;text-align: left;background-color: #f0f8ff;}#sk-container-id-15 div.sk-toggleable__content pre {margin: 0.2em;color: black;border-radius: 0.25em;background-color: #f0f8ff;}#sk-container-id-15 input.sk-toggleable__control:checked~div.sk-toggleable__content {max-height: 200px;max-width: 100%;overflow: auto;}#sk-container-id-15 input.sk-toggleable__control:checked~label.sk-toggleable__label-arrow:before {content: \"▾\";}#sk-container-id-15 div.sk-estimator input.sk-toggleable__control:checked~label.sk-toggleable__label {background-color: #d4ebff;}#sk-container-id-15 div.sk-label input.sk-toggleable__control:checked~label.sk-toggleable__label {background-color: #d4ebff;}#sk-container-id-15 input.sk-hidden--visually {border: 0;clip: rect(1px 1px 1px 1px);clip: rect(1px, 1px, 1px, 1px);height: 1px;margin: -1px;overflow: hidden;padding: 0;position: absolute;width: 1px;}#sk-container-id-15 div.sk-estimator {font-family: monospace;background-color: #f0f8ff;border: 1px dotted black;border-radius: 0.25em;box-sizing: border-box;margin-bottom: 0.5em;}#sk-container-id-15 div.sk-estimator:hover {background-color: #d4ebff;}#sk-container-id-15 div.sk-parallel-item::after {content: \"\";width: 100%;border-bottom: 1px solid gray;flex-grow: 1;}#sk-container-id-15 div.sk-label:hover label.sk-toggleable__label {background-color: #d4ebff;}#sk-container-id-15 div.sk-serial::before {content: \"\";position: absolute;border-left: 1px solid gray;box-sizing: border-box;top: 0;bottom: 0;left: 50%;z-index: 0;}#sk-container-id-15 div.sk-serial {display: flex;flex-direction: column;align-items: center;background-color: white;padding-right: 0.2em;padding-left: 0.2em;position: relative;}#sk-container-id-15 div.sk-item {position: relative;z-index: 1;}#sk-container-id-15 div.sk-parallel {display: flex;align-items: stretch;justify-content: center;background-color: white;position: relative;}#sk-container-id-15 div.sk-item::before, #sk-container-id-15 div.sk-parallel-item::before {content: \"\";position: absolute;border-left: 1px solid gray;box-sizing: border-box;top: 0;bottom: 0;left: 50%;z-index: -1;}#sk-container-id-15 div.sk-parallel-item {display: flex;flex-direction: column;z-index: 1;position: relative;background-color: white;}#sk-container-id-15 div.sk-parallel-item:first-child::after {align-self: flex-end;width: 50%;}#sk-container-id-15 div.sk-parallel-item:last-child::after {align-self: flex-start;width: 50%;}#sk-container-id-15 div.sk-parallel-item:only-child::after {width: 0;}#sk-container-id-15 div.sk-dashed-wrapped {border: 1px dashed gray;margin: 0 0.4em 0.5em 0.4em;box-sizing: border-box;padding-bottom: 0.4em;background-color: white;}#sk-container-id-15 div.sk-label label {font-family: monospace;font-weight: bold;display: inline-block;line-height: 1.2em;}#sk-container-id-15 div.sk-label-container {text-align: center;}#sk-container-id-15 div.sk-container {/* jupyter's `normalize.less` sets `[hidden] { display: none; }` but bootstrap.min.css set `[hidden] { display: none !important; }` so we also need the `!important` here to be able to override the default hidden behavior on the sphinx rendered scikit-learn.org. See: https://github.com/scikit-learn/scikit-learn/issues/21755 */display: inline-block !important;position: relative;}#sk-container-id-15 div.sk-text-repr-fallback {display: none;}</style><div id=\"sk-container-id-15\" class=\"sk-top-container\"><div class=\"sk-text-repr-fallback\"><pre>RandomForestRegressor(max_depth=9, max_features=0.4, max_samples=0.8,\n",
       "                      n_estimators=80)</pre><b>In a Jupyter environment, please rerun this cell to show the HTML representation or trust the notebook. <br />On GitHub, the HTML representation is unable to render, please try loading this page with nbviewer.org.</b></div><div class=\"sk-container\" hidden><div class=\"sk-item\"><div class=\"sk-estimator sk-toggleable\"><input class=\"sk-toggleable__control sk-hidden--visually\" id=\"sk-estimator-id-29\" type=\"checkbox\" checked><label for=\"sk-estimator-id-29\" class=\"sk-toggleable__label sk-toggleable__label-arrow\">RandomForestRegressor</label><div class=\"sk-toggleable__content\"><pre>RandomForestRegressor(max_depth=9, max_features=0.4, max_samples=0.8,\n",
       "                      n_estimators=80)</pre></div></div></div></div></div>"
      ],
      "text/plain": [
       "RandomForestRegressor(max_depth=9, max_features=0.4, max_samples=0.8,\n",
       "                      n_estimators=80)"
      ]
     },
     "execution_count": 325,
     "metadata": {},
     "output_type": "execute_result"
    }
   ],
   "source": [
    "from sklearn.model_selection import RandomizedSearchCV as RSCV\n",
    "\n",
    "param_grid = {'n_estimators':np.arange(50,200,15),\n",
    "              'max_features':np.arange(0.1, 1, 0.1),\n",
    "              'max_depth': [5, 7, 9, 11, 13, 15],\n",
    "              'max_samples': [0.3, 0.5, 0.8]}\n",
    "\n",
    "model = RSCV(RandomForestRegressor(), param_grid, n_iter = 15).fit(X_train, y_train)\n",
    "model = model.best_estimator_\n",
    "model "
   ]
  },
  {
   "cell_type": "markdown",
   "metadata": {},
   "source": [
    "* Con este proceso se busca **determinar parametros optimos** para nuestra regresión apriori "
   ]
  },
  {
   "cell_type": "code",
   "execution_count": 333,
   "metadata": {},
   "outputs": [
    {
     "data": {
      "text/html": [
       "<style>#sk-container-id-18 {color: black;background-color: white;}#sk-container-id-18 pre{padding: 0;}#sk-container-id-18 div.sk-toggleable {background-color: white;}#sk-container-id-18 label.sk-toggleable__label {cursor: pointer;display: block;width: 100%;margin-bottom: 0;padding: 0.3em;box-sizing: border-box;text-align: center;}#sk-container-id-18 label.sk-toggleable__label-arrow:before {content: \"▸\";float: left;margin-right: 0.25em;color: #696969;}#sk-container-id-18 label.sk-toggleable__label-arrow:hover:before {color: black;}#sk-container-id-18 div.sk-estimator:hover label.sk-toggleable__label-arrow:before {color: black;}#sk-container-id-18 div.sk-toggleable__content {max-height: 0;max-width: 0;overflow: hidden;text-align: left;background-color: #f0f8ff;}#sk-container-id-18 div.sk-toggleable__content pre {margin: 0.2em;color: black;border-radius: 0.25em;background-color: #f0f8ff;}#sk-container-id-18 input.sk-toggleable__control:checked~div.sk-toggleable__content {max-height: 200px;max-width: 100%;overflow: auto;}#sk-container-id-18 input.sk-toggleable__control:checked~label.sk-toggleable__label-arrow:before {content: \"▾\";}#sk-container-id-18 div.sk-estimator input.sk-toggleable__control:checked~label.sk-toggleable__label {background-color: #d4ebff;}#sk-container-id-18 div.sk-label input.sk-toggleable__control:checked~label.sk-toggleable__label {background-color: #d4ebff;}#sk-container-id-18 input.sk-hidden--visually {border: 0;clip: rect(1px 1px 1px 1px);clip: rect(1px, 1px, 1px, 1px);height: 1px;margin: -1px;overflow: hidden;padding: 0;position: absolute;width: 1px;}#sk-container-id-18 div.sk-estimator {font-family: monospace;background-color: #f0f8ff;border: 1px dotted black;border-radius: 0.25em;box-sizing: border-box;margin-bottom: 0.5em;}#sk-container-id-18 div.sk-estimator:hover {background-color: #d4ebff;}#sk-container-id-18 div.sk-parallel-item::after {content: \"\";width: 100%;border-bottom: 1px solid gray;flex-grow: 1;}#sk-container-id-18 div.sk-label:hover label.sk-toggleable__label {background-color: #d4ebff;}#sk-container-id-18 div.sk-serial::before {content: \"\";position: absolute;border-left: 1px solid gray;box-sizing: border-box;top: 0;bottom: 0;left: 50%;z-index: 0;}#sk-container-id-18 div.sk-serial {display: flex;flex-direction: column;align-items: center;background-color: white;padding-right: 0.2em;padding-left: 0.2em;position: relative;}#sk-container-id-18 div.sk-item {position: relative;z-index: 1;}#sk-container-id-18 div.sk-parallel {display: flex;align-items: stretch;justify-content: center;background-color: white;position: relative;}#sk-container-id-18 div.sk-item::before, #sk-container-id-18 div.sk-parallel-item::before {content: \"\";position: absolute;border-left: 1px solid gray;box-sizing: border-box;top: 0;bottom: 0;left: 50%;z-index: -1;}#sk-container-id-18 div.sk-parallel-item {display: flex;flex-direction: column;z-index: 1;position: relative;background-color: white;}#sk-container-id-18 div.sk-parallel-item:first-child::after {align-self: flex-end;width: 50%;}#sk-container-id-18 div.sk-parallel-item:last-child::after {align-self: flex-start;width: 50%;}#sk-container-id-18 div.sk-parallel-item:only-child::after {width: 0;}#sk-container-id-18 div.sk-dashed-wrapped {border: 1px dashed gray;margin: 0 0.4em 0.5em 0.4em;box-sizing: border-box;padding-bottom: 0.4em;background-color: white;}#sk-container-id-18 div.sk-label label {font-family: monospace;font-weight: bold;display: inline-block;line-height: 1.2em;}#sk-container-id-18 div.sk-label-container {text-align: center;}#sk-container-id-18 div.sk-container {/* jupyter's `normalize.less` sets `[hidden] { display: none; }` but bootstrap.min.css set `[hidden] { display: none !important; }` so we also need the `!important` here to be able to override the default hidden behavior on the sphinx rendered scikit-learn.org. See: https://github.com/scikit-learn/scikit-learn/issues/21755 */display: inline-block !important;position: relative;}#sk-container-id-18 div.sk-text-repr-fallback {display: none;}</style><div id=\"sk-container-id-18\" class=\"sk-top-container\"><div class=\"sk-text-repr-fallback\"><pre>RandomForestRegressor(max_depth=9, max_features=0.4, max_samples=0.8,\n",
       "                      n_estimators=80)</pre><b>In a Jupyter environment, please rerun this cell to show the HTML representation or trust the notebook. <br />On GitHub, the HTML representation is unable to render, please try loading this page with nbviewer.org.</b></div><div class=\"sk-container\" hidden><div class=\"sk-item\"><div class=\"sk-estimator sk-toggleable\"><input class=\"sk-toggleable__control sk-hidden--visually\" id=\"sk-estimator-id-32\" type=\"checkbox\" checked><label for=\"sk-estimator-id-32\" class=\"sk-toggleable__label sk-toggleable__label-arrow\">RandomForestRegressor</label><div class=\"sk-toggleable__content\"><pre>RandomForestRegressor(max_depth=9, max_features=0.4, max_samples=0.8,\n",
       "                      n_estimators=80)</pre></div></div></div></div></div>"
      ],
      "text/plain": [
       "RandomForestRegressor(max_depth=9, max_features=0.4, max_samples=0.8,\n",
       "                      n_estimators=80)"
      ]
     },
     "execution_count": 333,
     "metadata": {},
     "output_type": "execute_result"
    }
   ],
   "source": [
    "model_lin = RandomForestRegressor(max_depth=9, max_features=0.4, max_samples=0.8,\n",
    "                      n_estimators=80)\n",
    "\n",
    "model_lin.fit(X_train, y_train)"
   ]
  },
  {
   "cell_type": "code",
   "execution_count": 334,
   "metadata": {},
   "outputs": [
    {
     "data": {
      "image/png": "[encoded data removed]",
      "text/plain": [
       "<Figure size 720x288 with 2 Axes>"
      ]
     },
     "metadata": {
      "needs_background": "light"
     },
     "output_type": "display_data"
    }
   ],
   "source": [
    "y_test_pred = model_lin.predict(X_test)\n",
    "\n",
    "plot_prediction_analisys(y_test, y_test_pred, title='Reg Model - Trainingset')"
   ]
  },
  {
   "cell_type": "markdown",
   "metadata": {},
   "source": [
    "Justificación de estandarizacion:\n",
    "- La estandarización de un conjunto de datos es un requisito común para muchos estimadores de aprendizaje automático: es posible que se comporten mal si las características individuales no se parecen más o menos a datos estándar distribuidos normalmente (p. ej., gaussianos con media 0 y varianza unitaria)."
   ]
  },
  {
   "cell_type": "markdown",
   "metadata": {},
   "source": [
    "Justificación de modelo:\n",
    "* Utilizamos RandomForestRegressor por las caracteristicas de nuestra variable dependiente, está es de tipo numerico (Responde a un precio), por tanto descartamos un modelo clasificatorio y se usa RandomForest por su capacidad."
   ]
  },
  {
   "cell_type": "code",
   "execution_count": 234,
   "metadata": {},
   "outputs": [],
   "source": [
    "import pickle\n",
    "\n",
    "with open('houses_model.pkl', 'wb') as pdis:\n",
    "    pickle.dump(model_lin, pdis)"
   ]
  },
  {
   "cell_type": "markdown",
   "metadata": {},
   "source": [
    "* **Exportamos nuestro modelo**"
   ]
  },
  {
   "cell_type": "code",
   "execution_count": 158,
   "metadata": {},
   "outputs": [],
   "source": [
    "model_lin = pd.read_pickle('houses_model.pkl')"
   ]
  },
  {
   "cell_type": "code",
   "execution_count": 328,
   "metadata": {},
   "outputs": [
    {
     "name": "stdout",
     "output_type": "stream",
     "text": [
      "Nuestro error cuadratico medio y desviación estandar es: 30937.01\n"
     ]
    }
   ],
   "source": [
    "rmse = mean_squared_error(y_test, y_test_pred, squared=False)\n",
    "print('Nuestro error cuadratico medio y desviación estandar es: {:.2f}'.format(rmse))"
   ]
  },
  {
   "cell_type": "code",
   "execution_count": 335,
   "metadata": {},
   "outputs": [
    {
     "name": "stdout",
     "output_type": "stream",
     "text": [
      "Nuestro error cuadratico medio logaritmico es 0.14\n"
     ]
    }
   ],
   "source": [
    "from sklearn.metrics import mean_squared_log_error\n",
    "\n",
    "rmsle = round(mean_squared_log_error(y_test, y_test_pred, squared=False), 2)\n",
    "print('Nuestro error cuadratico medio logaritmico es {:.2f}'.format(rmsle))"
   ]
  },
  {
   "cell_type": "markdown",
   "metadata": {},
   "source": [
    "* **FASE DE GENERACIÓN DE PRECIOS PARA LOS DATOS DE PRUEBA**"
   ]
  },
  {
   "cell_type": "code",
   "execution_count": 337,
   "metadata": {},
   "outputs": [
    {
     "name": "stderr",
     "output_type": "stream",
     "text": [
      "C:\\Users\\Usuario\\AppData\\Local\\Temp\\ipykernel_7124\\1162033406.py:1: SettingWithCopyWarning: \n",
      "A value is trying to be set on a copy of a slice from a DataFrame.\n",
      "Try using .loc[row_indexer,col_indexer] = value instead\n",
      "\n",
      "See the caveats in the documentation: https://pandas.pydata.org/pandas-docs/stable/user_guide/indexing.html#returning-a-view-versus-a-copy\n",
      "  df_test['SalePrice'] = model_lin.predict(df_test)\n"
     ]
    }
   ],
   "source": [
    "df_test['SalePrice'] = model_lin.predict(df_test)"
   ]
  },
  {
   "cell_type": "code",
   "execution_count": 338,
   "metadata": {},
   "outputs": [
    {
     "name": "stderr",
     "output_type": "stream",
     "text": [
      "C:\\Users\\Usuario\\AppData\\Local\\Temp\\ipykernel_7124\\1055257898.py:1: SettingWithCopyWarning: \n",
      "A value is trying to be set on a copy of a slice from a DataFrame.\n",
      "Try using .loc[row_indexer,col_indexer] = value instead\n",
      "\n",
      "See the caveats in the documentation: https://pandas.pydata.org/pandas-docs/stable/user_guide/indexing.html#returning-a-view-versus-a-copy\n",
      "  df_test['SalePrice'] = round(df_test['SalePrice'], 2)\n"
     ]
    }
   ],
   "source": [
    "df_test['SalePrice'] = round(df_test['SalePrice'], 2)"
   ]
  },
  {
   "cell_type": "markdown",
   "metadata": {},
   "source": [
    "* Usamos el modelo para generar los valores de precio en *house_test*"
   ]
  },
  {
   "cell_type": "code",
   "execution_count": 339,
   "metadata": {},
   "outputs": [
    {
     "data": {
      "text/html": [
       "<div>\n",
       "<style scoped>\n",
       "    .dataframe tbody tr th:only-of-type {\n",
       "        vertical-align: middle;\n",
       "    }\n",
       "\n",
       "    .dataframe tbody tr th {\n",
       "        vertical-align: top;\n",
       "    }\n",
       "\n",
       "    .dataframe thead th {\n",
       "        text-align: right;\n",
       "    }\n",
       "</style>\n",
       "<table border=\"1\" class=\"dataframe\">\n",
       "  <thead>\n",
       "    <tr style=\"text-align: right;\">\n",
       "      <th></th>\n",
       "      <th>MSSubClass</th>\n",
       "      <th>LotFrontage</th>\n",
       "      <th>LotArea</th>\n",
       "      <th>OverallQual</th>\n",
       "      <th>OverallCond</th>\n",
       "      <th>YearBuilt</th>\n",
       "      <th>YearRemodAdd</th>\n",
       "      <th>MasVnrArea</th>\n",
       "      <th>BsmtFinSF1</th>\n",
       "      <th>BsmtFinSF2</th>\n",
       "      <th>...</th>\n",
       "      <th>ConLw</th>\n",
       "      <th>New</th>\n",
       "      <th>Oth</th>\n",
       "      <th>WD</th>\n",
       "      <th>AdjLand</th>\n",
       "      <th>Alloca</th>\n",
       "      <th>Family</th>\n",
       "      <th>Normal</th>\n",
       "      <th>Partial</th>\n",
       "      <th>SalePrice</th>\n",
       "    </tr>\n",
       "  </thead>\n",
       "  <tbody>\n",
       "    <tr>\n",
       "      <th>0</th>\n",
       "      <td>-0.873616</td>\n",
       "      <td>0.501370</td>\n",
       "      <td>0.184371</td>\n",
       "      <td>-0.772552</td>\n",
       "      <td>0.391237</td>\n",
       "      <td>-0.340510</td>\n",
       "      <td>-1.113625</td>\n",
       "      <td>-0.572230</td>\n",
       "      <td>0.058354</td>\n",
       "      <td>0.558191</td>\n",
       "      <td>...</td>\n",
       "      <td>0</td>\n",
       "      <td>0</td>\n",
       "      <td>0</td>\n",
       "      <td>1</td>\n",
       "      <td>0</td>\n",
       "      <td>0</td>\n",
       "      <td>0</td>\n",
       "      <td>1</td>\n",
       "      <td>0</td>\n",
       "      <td>127643.45</td>\n",
       "    </tr>\n",
       "    <tr>\n",
       "      <th>1</th>\n",
       "      <td>-0.873616</td>\n",
       "      <td>0.548294</td>\n",
       "      <td>0.519791</td>\n",
       "      <td>-0.063185</td>\n",
       "      <td>0.391237</td>\n",
       "      <td>-0.439565</td>\n",
       "      <td>-1.257229</td>\n",
       "      <td>0.032488</td>\n",
       "      <td>1.057355</td>\n",
       "      <td>-0.293136</td>\n",
       "      <td>...</td>\n",
       "      <td>0</td>\n",
       "      <td>0</td>\n",
       "      <td>0</td>\n",
       "      <td>1</td>\n",
       "      <td>0</td>\n",
       "      <td>0</td>\n",
       "      <td>0</td>\n",
       "      <td>1</td>\n",
       "      <td>0</td>\n",
       "      <td>150787.08</td>\n",
       "    </tr>\n",
       "    <tr>\n",
       "      <th>2</th>\n",
       "      <td>0.067331</td>\n",
       "      <td>0.219822</td>\n",
       "      <td>0.464374</td>\n",
       "      <td>-0.772552</td>\n",
       "      <td>-0.507284</td>\n",
       "      <td>0.848148</td>\n",
       "      <td>0.657493</td>\n",
       "      <td>-0.572230</td>\n",
       "      <td>0.767535</td>\n",
       "      <td>-0.293136</td>\n",
       "      <td>...</td>\n",
       "      <td>0</td>\n",
       "      <td>0</td>\n",
       "      <td>0</td>\n",
       "      <td>1</td>\n",
       "      <td>0</td>\n",
       "      <td>0</td>\n",
       "      <td>0</td>\n",
       "      <td>1</td>\n",
       "      <td>0</td>\n",
       "      <td>179882.31</td>\n",
       "    </tr>\n",
       "    <tr>\n",
       "      <th>3</th>\n",
       "      <td>0.067331</td>\n",
       "      <td>0.407521</td>\n",
       "      <td>-0.024109</td>\n",
       "      <td>-0.063185</td>\n",
       "      <td>0.391237</td>\n",
       "      <td>0.881166</td>\n",
       "      <td>0.657493</td>\n",
       "      <td>-0.460245</td>\n",
       "      <td>0.352565</td>\n",
       "      <td>-0.293136</td>\n",
       "      <td>...</td>\n",
       "      <td>0</td>\n",
       "      <td>0</td>\n",
       "      <td>0</td>\n",
       "      <td>1</td>\n",
       "      <td>0</td>\n",
       "      <td>0</td>\n",
       "      <td>0</td>\n",
       "      <td>1</td>\n",
       "      <td>0</td>\n",
       "      <td>183275.13</td>\n",
       "    </tr>\n",
       "    <tr>\n",
       "      <th>4</th>\n",
       "      <td>1.478753</td>\n",
       "      <td>-1.234839</td>\n",
       "      <td>-0.654748</td>\n",
       "      <td>1.355551</td>\n",
       "      <td>-0.507284</td>\n",
       "      <td>0.683057</td>\n",
       "      <td>0.370284</td>\n",
       "      <td>-0.572230</td>\n",
       "      <td>-0.391746</td>\n",
       "      <td>-0.293136</td>\n",
       "      <td>...</td>\n",
       "      <td>0</td>\n",
       "      <td>0</td>\n",
       "      <td>0</td>\n",
       "      <td>1</td>\n",
       "      <td>0</td>\n",
       "      <td>0</td>\n",
       "      <td>0</td>\n",
       "      <td>1</td>\n",
       "      <td>0</td>\n",
       "      <td>207158.77</td>\n",
       "    </tr>\n",
       "  </tbody>\n",
       "</table>\n",
       "<p>5 rows × 177 columns</p>\n",
       "</div>"
      ],
      "text/plain": [
       "   MSSubClass  LotFrontage   LotArea  OverallQual  OverallCond  YearBuilt  \\\n",
       "0   -0.873616     0.501370  0.184371    -0.772552     0.391237  -0.340510   \n",
       "1   -0.873616     0.548294  0.519791    -0.063185     0.391237  -0.439565   \n",
       "2    0.067331     0.219822  0.464374    -0.772552    -0.507284   0.848148   \n",
       "3    0.067331     0.407521 -0.024109    -0.063185     0.391237   0.881166   \n",
       "4    1.478753    -1.234839 -0.654748     1.355551    -0.507284   0.683057   \n",
       "\n",
       "   YearRemodAdd  MasVnrArea  BsmtFinSF1  BsmtFinSF2  ...  ConLw  New  Oth  WD  \\\n",
       "0     -1.113625   -0.572230    0.058354    0.558191  ...      0    0    0   1   \n",
       "1     -1.257229    0.032488    1.057355   -0.293136  ...      0    0    0   1   \n",
       "2      0.657493   -0.572230    0.767535   -0.293136  ...      0    0    0   1   \n",
       "3      0.657493   -0.460245    0.352565   -0.293136  ...      0    0    0   1   \n",
       "4      0.370284   -0.572230   -0.391746   -0.293136  ...      0    0    0   1   \n",
       "\n",
       "   AdjLand  Alloca  Family  Normal  Partial  SalePrice  \n",
       "0        0       0       0       1        0  127643.45  \n",
       "1        0       0       0       1        0  150787.08  \n",
       "2        0       0       0       1        0  179882.31  \n",
       "3        0       0       0       1        0  183275.13  \n",
       "4        0       0       0       1        0  207158.77  \n",
       "\n",
       "[5 rows x 177 columns]"
      ]
     },
     "execution_count": 339,
     "metadata": {},
     "output_type": "execute_result"
    }
   ],
   "source": [
    "df_test.head()"
   ]
  },
  {
   "cell_type": "markdown",
   "metadata": {},
   "source": [
    "* **FASE FINAL CSV PARA HACER SUBMIT**"
   ]
  },
  {
   "cell_type": "code",
   "execution_count": 340,
   "metadata": {},
   "outputs": [],
   "source": [
    "submit_df = pd.read_csv('Housing Dreams/houses_test_raw.csv')"
   ]
  },
  {
   "cell_type": "code",
   "execution_count": 341,
   "metadata": {},
   "outputs": [],
   "source": [
    "submit_df['SalePrice'] = df_test['SalePrice']"
   ]
  },
  {
   "cell_type": "code",
   "execution_count": 342,
   "metadata": {},
   "outputs": [],
   "source": [
    "submit_df = submit_df[['Id', 'SalePrice']]"
   ]
  },
  {
   "cell_type": "code",
   "execution_count": 343,
   "metadata": {},
   "outputs": [
    {
     "data": {
      "text/html": [
       "<div>\n",
       "<style scoped>\n",
       "    .dataframe tbody tr th:only-of-type {\n",
       "        vertical-align: middle;\n",
       "    }\n",
       "\n",
       "    .dataframe tbody tr th {\n",
       "        vertical-align: top;\n",
       "    }\n",
       "\n",
       "    .dataframe thead th {\n",
       "        text-align: right;\n",
       "    }\n",
       "</style>\n",
       "<table border=\"1\" class=\"dataframe\">\n",
       "  <thead>\n",
       "    <tr style=\"text-align: right;\">\n",
       "      <th></th>\n",
       "      <th>SalePrice</th>\n",
       "    </tr>\n",
       "    <tr>\n",
       "      <th>Id</th>\n",
       "      <th></th>\n",
       "    </tr>\n",
       "  </thead>\n",
       "  <tbody>\n",
       "    <tr>\n",
       "      <th>1461</th>\n",
       "      <td>127643.45</td>\n",
       "    </tr>\n",
       "    <tr>\n",
       "      <th>1462</th>\n",
       "      <td>150787.08</td>\n",
       "    </tr>\n",
       "    <tr>\n",
       "      <th>1463</th>\n",
       "      <td>179882.31</td>\n",
       "    </tr>\n",
       "    <tr>\n",
       "      <th>1464</th>\n",
       "      <td>183275.13</td>\n",
       "    </tr>\n",
       "    <tr>\n",
       "      <th>1465</th>\n",
       "      <td>207158.77</td>\n",
       "    </tr>\n",
       "    <tr>\n",
       "      <th>...</th>\n",
       "      <td>...</td>\n",
       "    </tr>\n",
       "    <tr>\n",
       "      <th>2915</th>\n",
       "      <td>89010.07</td>\n",
       "    </tr>\n",
       "    <tr>\n",
       "      <th>2916</th>\n",
       "      <td>90609.11</td>\n",
       "    </tr>\n",
       "    <tr>\n",
       "      <th>2917</th>\n",
       "      <td>158225.45</td>\n",
       "    </tr>\n",
       "    <tr>\n",
       "      <th>2918</th>\n",
       "      <td>122877.47</td>\n",
       "    </tr>\n",
       "    <tr>\n",
       "      <th>2919</th>\n",
       "      <td>230670.74</td>\n",
       "    </tr>\n",
       "  </tbody>\n",
       "</table>\n",
       "<p>1459 rows × 1 columns</p>\n",
       "</div>"
      ],
      "text/plain": [
       "      SalePrice\n",
       "Id             \n",
       "1461  127643.45\n",
       "1462  150787.08\n",
       "1463  179882.31\n",
       "1464  183275.13\n",
       "1465  207158.77\n",
       "...         ...\n",
       "2915   89010.07\n",
       "2916   90609.11\n",
       "2917  158225.45\n",
       "2918  122877.47\n",
       "2919  230670.74\n",
       "\n",
       "[1459 rows x 1 columns]"
      ]
     },
     "execution_count": 343,
     "metadata": {},
     "output_type": "execute_result"
    }
   ],
   "source": [
    "submit_df.set_index('Id')"
   ]
  },
  {
   "cell_type": "markdown",
   "metadata": {},
   "source": [
    "* Este nuevo DataSet, cuyo proposito es testear resultados, solo contiene el ID de la venta y su determinado precio (Producto de la predicción del modelo)"
   ]
  },
  {
   "cell_type": "code",
   "execution_count": 344,
   "metadata": {},
   "outputs": [],
   "source": [
    "submit_df.to_csv('pred_test.csv', index=False)"
   ]
  },
  {
   "cell_type": "markdown",
   "metadata": {},
   "source": [
    "* Con **'sample_submission.csv'**, se podra testear compárativamente los resultados"
   ]
  }
 ],
 "metadata": {
  "kernelspec": {
   "display_name": "Python 3.10.5 64-bit",
   "language": "python",
   "name": "python3"
  },
  "language_info": {
   "codemirror_mode": {
    "name": "ipython",
    "version": 3
   },
   "file_extension": ".py",
   "mimetype": "text/x-python",
   "name": "python",
   "nbconvert_exporter": "python",
   "pygments_lexer": "ipython3",
   "version": "3.10.5"
  },
  "orig_nbformat": 4,
  "vscode": {
   "interpreter": {
    "hash": "c63d8c7d738c2960218a10995aedf0a7f67a49a231e71037adf0440953cdb45b"
   }
  }
 },
 "nbformat": 4,
 "nbformat_minor": 2
}
